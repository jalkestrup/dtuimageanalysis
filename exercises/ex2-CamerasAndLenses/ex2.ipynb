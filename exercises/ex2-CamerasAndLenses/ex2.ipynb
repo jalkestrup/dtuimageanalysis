{
 "cells": [
  {
   "attachments": {},
   "cell_type": "markdown",
   "metadata": {},
   "source": [
    "### Exercise 1\n",
    "Explain how to calculate the angle theta when a and b is given in the figure below:"
   ]
  },
  {
   "cell_type": "code",
   "execution_count": 1,
   "metadata": {},
   "outputs": [],
   "source": [
    "#import and show ArcTangens.png from the figures folder\n",
    "from skimage import io\n",
    "fig_dir = 'figures'\n",
    "fig_name = 'ArcTangens.png'\n",
    "fig_1 = io.imread(fig_dir+'/'+fig_name)"
   ]
  },
  {
   "cell_type": "code",
   "execution_count": 4,
   "metadata": {},
   "outputs": [
    {
     "data": {
      "text/plain": [
       "<matplotlib.image.AxesImage at 0x147bc4446d0>"
      ]
     },
     "execution_count": 4,
     "metadata": {},
     "output_type": "execute_result"
    },
    {
     "data": {
      "image/png": "[encoded data removed]",
      "text/plain": [
       "<Figure size 640x480 with 1 Axes>"
      ]
     },
     "metadata": {},
     "output_type": "display_data"
    }
   ],
   "source": [
    "io.imshow(fig_1)"
   ]
  },
  {
   "attachments": {},
   "cell_type": "markdown",
   "metadata": {},
   "source": [
    "Theta is simply calculated using arc tangens as we have a rectified triangle"
   ]
  },
  {
   "cell_type": "code",
   "execution_count": 8,
   "metadata": {},
   "outputs": [
    {
     "data": {
      "text/plain": [
       "0.2914567944778671"
      ]
     },
     "execution_count": 8,
     "metadata": {},
     "output_type": "execute_result"
    }
   ],
   "source": [
    "import math\n",
    "a1 = 10\n",
    "b1 = 3\n",
    "math.atan2(b1,a1)"
   ]
  },
  {
   "attachments": {},
   "cell_type": "markdown",
   "metadata": {},
   "source": [
    "#### Exercise 2\n",
    "Create a Python function called camera_b_distance.\n",
    "\n",
    "The function should accept two arguments, a focal length f and an object distance g. It should return the distance from the lens to where the rays are focused (b) (where the CCD should be placed)"
   ]
  },
  {
   "cell_type": "code",
   "execution_count": 2,
   "metadata": {},
   "outputs": [],
   "source": [
    "def camera_b_distance(f: float, g: float) -> float:\n",
    "    \"\"\"Calculate the distance between the camera and the object.\n",
    "    Args:\n",
    "        f (float): Focal length of the camera in (mm).\n",
    "        g (float): Distance between the object and the lens in (mm).\n",
    "    Returns:\n",
    "        b (float): Distance where the CCD should be placed from lens (mm).\n",
    "    \"\"\"\n",
    "    return f*g/(g-f)"
   ]
  },
  {
   "cell_type": "code",
   "execution_count": 5,
   "metadata": {},
   "outputs": [
    {
     "name": "stdout",
     "output_type": "stream",
     "text": [
      "[17.647058823529413, 15.228426395939087, 15.045135406218655, 15.015015015015015]\n"
     ]
    }
   ],
   "source": [
    "#Where should the CCD be plaed when the focal length is 15 mm and the object is 100 mm, 1000 mm, 5000 mm and 15000 mm away from the lens?\n",
    "f = 15\n",
    "g = [100, 1000, 5000, 15000]\n",
    "b = [camera_b_distance(f, g_) for g_ in g]\n",
    "print(b)"
   ]
  },
  {
   "attachments": {},
   "cell_type": "markdown",
   "metadata": {},
   "source": [
    "What happens to the place of the CCD when the object distance is increased?\n",
    "The further the object is placed, the closer the CCD has to be to the lens. It can also be seen that a range of 10cm to 15m has a distance close to each other meaning that it would be doable to have a camera that can take sharp pictures at this (and further) distances, but Macro photography becomes difficult with the same lens setup.\n"
   ]
  },
  {
   "attachments": {},
   "cell_type": "markdown",
   "metadata": {},
   "source": [
    "### Camera Exercise\n",
    "In the following exercise, you should remember to explain when something is in mm and when it is in meters. To convert between radians and degrees you can use:"
   ]
  },
  {
   "cell_type": "code",
   "execution_count": 9,
   "metadata": {},
   "outputs": [],
   "source": [
    "def angle_d(angle_r):\n",
    "    return 180.0 / math.pi * angle_r"
   ]
  },
  {
   "cell_type": "code",
   "execution_count": null,
   "metadata": {},
   "outputs": [],
   "source": []
  }
 ],
 "metadata": {
  "kernelspec": {
   "display_name": "imageanalysis1",
   "language": "python",
   "name": "python3"
  },
  "language_info": {
   "codemirror_mode": {
    "name": "ipython",
    "version": 3
   },
   "file_extension": ".py",
   "mimetype": "text/x-python",
   "name": "python",
   "nbconvert_exporter": "python",
   "pygments_lexer": "ipython3",
   "version": "3.9.16"
  },
  "orig_nbformat": 4,
  "vscode": {
   "interpreter": {
    "hash": "af6950d38ba9cc25083b9d394fb4481044c7c198a837524831131d951b2f76d8"
   }
  }
 },
 "nbformat": 4,
 "nbformat_minor": 2
}
