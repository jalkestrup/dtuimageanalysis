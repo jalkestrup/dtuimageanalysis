{
 "cells": [
  {
   "attachments": {},
   "cell_type": "markdown",
   "metadata": {},
   "source": [
    "## Loading the Iris dataset"
   ]
  },
  {
   "cell_type": "code",
   "execution_count": 10,
   "metadata": {},
   "outputs": [],
   "source": [
    "import numpy as np\n",
    "data_dir = 'data/'\n",
    "data_file = 'irisdata.txt'\n",
    "iris_data = np.loadtxt(data_dir + data_file, comments=\"%\")"
   ]
  },
  {
   "cell_type": "code",
   "execution_count": 6,
   "metadata": {},
   "outputs": [
    {
     "data": {
      "text/plain": [
       "array([[5.1, 3.5, 1.4, 0.2],\n",
       "       [4.9, 3. , 1.4, 0.2],\n",
       "       [4.7, 3.2, 1.3, 0.2],\n",
       "       [4.6, 3.1, 1.5, 0.2],\n",
       "       [5. , 3.6, 1.4, 0.2],\n",
       "       [5.4, 3.9, 1.7, 0.4],\n",
       "       [4.6, 3.4, 1.4, 0.3],\n",
       "       [5. , 3.4, 1.5, 0.2],\n",
       "       [4.4, 2.9, 1.4, 0.2],\n",
       "       [4.9, 3.1, 1.5, 0.1]])"
      ]
     },
     "execution_count": 6,
     "metadata": {},
     "output_type": "execute_result"
    }
   ],
   "source": [
    "#Save the first 50 oservations\n",
    "x = iris_data[0:50,0:4]\n",
    "#print the first 10\n",
    "x[0:10,:]"
   ]
  },
  {
   "cell_type": "code",
   "execution_count": 8,
   "metadata": {},
   "outputs": [
    {
     "name": "stdout",
     "output_type": "stream",
     "text": [
      "Number of features:  4\n",
      "Number of observations:  50\n"
     ]
    }
   ],
   "source": [
    "#Number of features\n",
    "n_features = x.shape[1]\n",
    "print('Number of features: ', n_features)\n",
    "n_obs = x.shape[0]\n",
    "print('Number of observations: ', n_obs)"
   ]
  },
  {
   "attachments": {},
   "cell_type": "markdown",
   "metadata": {},
   "source": [
    "## Explorative data analysis\n",
    "To explore the data, we can create vectors of the individual feature:"
   ]
  },
  {
   "cell_type": "code",
   "execution_count": 12,
   "metadata": {},
   "outputs": [],
   "source": [
    "sep_l = x[:,0]\n",
    "sep_w = x[:,1]\n",
    "pet_l = x[:,2]\n",
    "pet_w = x[:,3]"
   ]
  },
  {
   "cell_type": "code",
   "execution_count": 13,
   "metadata": {},
   "outputs": [
    {
     "data": {
      "image/png": "[encoded data removed]",
      "text/plain": [
       "<Figure size 640x480 with 1 Axes>"
      ]
     },
     "metadata": {},
     "output_type": "display_data"
    }
   ],
   "source": [
    "#Make a combined boxplot of each feature\n",
    "import matplotlib.pyplot as plt\n",
    "plt.boxplot([sep_l, sep_w, pet_l, pet_w])\n",
    "plt.xticks([1,2,3,4],['Sepal Length', 'Sepal Width', 'Petal Length', 'Petal Width'])\n",
    "plt.show()"
   ]
  },
  {
   "cell_type": "code",
   "execution_count": 14,
   "metadata": {},
   "outputs": [
    {
     "name": "stdout",
     "output_type": "stream",
     "text": [
      "The variance of sepal length is:  0.12424897959183677\n",
      "The variance of sepal width is:  0.1436897959183674\n",
      "The variance of petal length is:  0.030159183673469384\n",
      "The variance of petal width is:  0.01110612244897959\n"
     ]
    }
   ],
   "source": [
    "# Use ddof = 1 to make an unbiased estimate\n",
    "var_sep_l = sep_l.var(ddof=1)\n",
    "var_sep_w = sep_w.var(ddof=1)\n",
    "var_pet_l = pet_l.var(ddof=1)\n",
    "var_pet_w = pet_w.var(ddof=1)\n",
    "#Print the variance of each feature\n",
    "print('The variance of sepal length is: ', var_sep_l)\n",
    "print('The variance of sepal width is: ', var_sep_w)\n",
    "print('The variance of petal length is: ', var_pet_l)\n",
    "print('The variance of petal width is: ', var_pet_w)"
   ]
  },
  {
   "cell_type": "code",
   "execution_count": null,
   "metadata": {},
   "outputs": [],
   "source": []
  }
 ],
 "metadata": {
  "kernelspec": {
   "display_name": "imageanalysis1",
   "language": "python",
   "name": "python3"
  },
  "language_info": {
   "codemirror_mode": {
    "name": "ipython",
    "version": 3
   },
   "file_extension": ".py",
   "mimetype": "text/x-python",
   "name": "python",
   "nbconvert_exporter": "python",
   "pygments_lexer": "ipython3",
   "version": "3.9.16"
  },
  "orig_nbformat": 4,
  "vscode": {
   "interpreter": {
    "hash": "af6950d38ba9cc25083b9d394fb4481044c7c198a837524831131d951b2f76d8"
   }
  }
 },
 "nbformat": 4,
 "nbformat_minor": 2
}
